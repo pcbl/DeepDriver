{
 "cells": [
  {
   "cell_type": "code",
   "execution_count": 3,
   "metadata": {},
   "outputs": [],
   "source": [
    "import numpy as np\n",
    "import matplotlib.pyplot as plt"
   ]
  },
  {
   "cell_type": "code",
   "execution_count": 4,
   "metadata": {},
   "outputs": [
    {
     "data": {
      "image/png": "[encoded data removed]",
      "text/plain": [
       "<Figure size 288x288 with 1 Axes>"
      ]
     },
     "metadata": {
      "needs_background": "light"
     },
     "output_type": "display_data"
    }
   ],
   "source": [
    "n_pts = 100\n",
    "#here we get always the same random values... by fixing the seed\n",
    "np.random.seed(0)\n",
    "\n",
    "#T is the tranpose, to flip rows to columns...\n",
    "top_region = np.array([\n",
    "    #10 is the center of out normal distribution, 2 is std. deviation\n",
    "    np.random.normal(10, 2, n_pts), \n",
    "    np.random.normal(12, 2, n_pts)]).T\n",
    "\n",
    "bottom_region = np.array([\n",
    "    np.random.normal(5, 2, n_pts), \n",
    "    np.random.normal(6, 2, n_pts)]).T\n",
    "\n",
    "#Plotting!\n",
    "_, ax = plt.subplots(figsize=(4,4))\n",
    "ax.scatter(top_region[:, 0],top_region[:, 1], color='red')\n",
    "ax.scatter(bottom_region[:, 0],bottom_region[:, 1], color='blue')\n",
    "plt.show()"
   ]
  },
  {
   "cell_type": "code",
   "execution_count": 5,
   "metadata": {},
   "outputs": [],
   "source": [
    "def draw(x1,x2):\n",
    "    ln = plt.plot(x1,x2)\n",
    "\n",
    "def sigmoid(score):\n",
    "    return 1/(1 + np.exp(-score))\n",
    "\n",
    "def calculate_error(line_parameters, points, y):    \n",
    "    m = points.shape[0]#Number of points\n",
    "    p = sigmoid(points * line_parameters)\n",
    "    cross_entropy = -(1/m) * (np.log(p).T * y + np.log(1-p).T * (1-y))\n",
    "    return cross_entropy"
   ]
  },
  {
   "cell_type": "code",
   "execution_count": 6,
   "metadata": {},
   "outputs": [],
   "source": [
    "n_pts = 100\n",
    "bias = np.ones(n_pts)\n",
    "#here we get always the same random values... by fixing the seed\n",
    "np.random.seed(0)\n",
    "\n",
    "#T is the tranpose, to flip rows to columns...\n",
    "top_region = np.array([\n",
    "    #10 is the center of out normal distribution, 2 is std. deviation\n",
    "    np.random.normal(10, 2, n_pts), \n",
    "    np.random.normal(12, 2, n_pts),\n",
    "    bias]).T\n",
    "bottom_region = np.array([\n",
    "    np.random.normal(5, 2, n_pts), \n",
    "    np.random.normal(6, 2, n_pts),\n",
    "    bias]).T\n",
    "all_points = np.vstack((top_region,bottom_region))\n",
    "\n",
    "#Calculating Line \n",
    "w1 = -0.2\n",
    "w2 = -0.33\n",
    "b = 3.5\n",
    "line_parameters = np.matrix([w1,w2,b]).T\n",
    "\n",
    "#w1x1 + w2x2 + b = 0\n",
    "x1 = np.array([bottom_region[:, 0].min(), top_region[:, 0].max()])\n",
    "x2 = -b / w2 + x1 * (-w1 / w2)\n",
    "\n",
    "#Label for error\n",
    "#first(0's) n_pts are the top(red=0)\n",
    "#second(1's) n_pts are the bottom(blue=1)\n",
    "y = np.array([np.zeros(n_pts), np.ones(n_pts)]).reshape(n_pts*2,1)"
   ]
  },
  {
   "cell_type": "code",
   "execution_count": 7,
   "metadata": {},
   "outputs": [
    {
     "data": {
      "image/png": "[encoded data removed]",
      "text/plain": [
       "<Figure size 288x288 with 1 Axes>"
      ]
     },
     "metadata": {
      "needs_background": "light"
     },
     "output_type": "display_data"
    }
   ],
   "source": [
    "#Plotting!\n",
    "_, ax = plt.subplots(figsize=(4,4))\n",
    "ax.scatter(top_region[:, 0],top_region[:, 1], color='red')\n",
    "ax.scatter(bottom_region[:, 0],bottom_region[:, 1], color='blue')\n",
    "draw(x1,x2)\n",
    "plt.show()\n"
   ]
  },
  {
   "cell_type": "code",
   "execution_count": 8,
   "metadata": {},
   "outputs": [
    {
     "name": "stdout",
     "output_type": "stream",
     "text": [
      "[[0.28746161]]\n"
     ]
    }
   ],
   "source": [
    "print(calculate_error(line_parameters, all_points, y))"
   ]
  },
  {
   "cell_type": "code",
   "execution_count": 9,
   "metadata": {},
   "outputs": [],
   "source": [
    "def gradient_descent (line_parameters, points, y, learning_rate):\n",
    "    m = points.shape[0]\n",
    "    for i in range(20000):\n",
    "        p = sigmoid(points * line_parameters)\n",
    "        gradient = (points.T * (p - y))*(learning_rate/m)\n",
    "        line_parameters = line_parameters - gradient\n",
    "        w1 = line_parameters.item(0)\n",
    "        w2 = line_parameters.item(1)\n",
    "        b  = line_parameters.item(2)\n",
    "        x1 = np.array([points[:, 0].min(), points[:, 0].max()])\n",
    "        x2 = -b / w2 + x1 * (-w1 / w2)        \n",
    "    draw(x1,x2)"
   ]
  },
  {
   "cell_type": "code",
   "execution_count": 10,
   "metadata": {},
   "outputs": [],
   "source": [
    "n_pts = 100\n",
    "bias = np.ones(n_pts)\n",
    "#here we get always the same random values... by fixing the seed\n",
    "np.random.seed(0)\n",
    "\n",
    "#T is the tranpose, to flip rows to columns...\n",
    "top_region = np.array([\n",
    "    #10 is the center of out normal distribution, 2 is std. deviation\n",
    "    np.random.normal(10, 2, n_pts), \n",
    "    np.random.normal(12, 2, n_pts),\n",
    "    bias]).T\n",
    "bottom_region = np.array([\n",
    "    np.random.normal(5, 2, n_pts), \n",
    "    np.random.normal(6, 2, n_pts),\n",
    "    bias]).T\n",
    "all_points = np.vstack((top_region,bottom_region))\n",
    "\n",
    "#Now we start with 0 and wil use gradient descent to find the optimal line\n",
    "line_parameters = np.matrix([np.zeros(3)]).T\n",
    "\n",
    "#w1x1 + w2x2 + b = 0\n",
    "#x1 = np.array([bottom_region[:, 0].min(), top_region[:, 0].max()])\n",
    "#x2 = -b / w2 + x1 * (-w1 / w2)\n",
    "\n",
    "#Label for error\n",
    "#first(0's) n_pts are the top(red=0)\n",
    "#second(1's) n_pts are the bottom(blue=1)\n",
    "y = np.array([np.zeros(n_pts), np.ones(n_pts)]).reshape(n_pts*2,1)"
   ]
  },
  {
   "cell_type": "code",
   "execution_count": 11,
   "metadata": {},
   "outputs": [
    {
     "data": {
      "image/png": "[encoded data removed]",
      "text/plain": [
       "<Figure size 288x288 with 1 Axes>"
      ]
     },
     "metadata": {
      "needs_background": "light"
     },
     "output_type": "display_data"
    }
   ],
   "source": [
    "#Plotting!\n",
    "_, ax = plt.subplots(figsize=(4,4))\n",
    "ax.scatter(top_region[:, 0],top_region[:, 1], color='red')\n",
    "ax.scatter(bottom_region[:, 0],bottom_region[:, 1], color='blue')\n",
    "#draw(x1,x2)\n",
    "gradient_descent(line_parameters, all_points, y, 0.06)\n",
    "plt.show()"
   ]
  },
  {
   "cell_type": "code",
   "execution_count": null,
   "metadata": {},
   "outputs": [],
   "source": []
  },
  {
   "cell_type": "code",
   "execution_count": null,
   "metadata": {},
   "outputs": [],
   "source": []
  },
  {
   "cell_type": "code",
   "execution_count": null,
   "metadata": {},
   "outputs": [],
   "source": []
  }
 ],
 "metadata": {
  "kernelspec": {
   "display_name": "Python 3",
   "language": "python",
   "name": "python3"
  },
  "language_info": {
   "codemirror_mode": {
    "name": "ipython",
    "version": 3
   },
   "file_extension": ".py",
   "mimetype": "text/x-python",
   "name": "python",
   "nbconvert_exporter": "python",
   "pygments_lexer": "ipython3",
   "version": "3.7.6"
  }
 },
 "nbformat": 4,
 "nbformat_minor": 4
}
