{
 "cells": [
  {
   "cell_type": "markdown",
   "metadata": {
    "colab_type": "text",
    "id": "view-in-github"
   },
   "source": [
    "<a href=\"https://colab.research.google.com/github/pcbl/DeepDriver/blob/master/LearnPython/Jupyter/PolynomialRegression.ipynb\" target=\"_parent\"><img src=\"https://colab.research.google.com/assets/colab-badge.svg\" alt=\"Open In Colab\"/></a>"
   ]
  },
  {
   "cell_type": "code",
   "execution_count": 6,
   "metadata": {
    "colab": {},
    "colab_type": "code",
    "id": "7BWNncCKk8up"
   },
   "outputs": [],
   "source": [
    "import numpy as np\n",
    "import matplotlib.pyplot as plt\n",
    "from keras.models import Sequential\n",
    "from keras.layers import Dense\n",
    "from keras.optimizers import Adam"
   ]
  },
  {
   "cell_type": "code",
   "execution_count": 4,
   "metadata": {
    "colab": {
     "base_uri": "https://localhost:8080/",
     "height": 282
    },
    "colab_type": "code",
    "id": "yXvG9f8WlNww",
    "outputId": "71fea56f-41c6-4cd2-b790-8fd8c9f2c6be"
   },
   "outputs": [
    {
     "data": {
      "text/plain": [
       "<matplotlib.collections.PathCollection at 0x7fe3ffdbc6a0>"
      ]
     },
     "execution_count": 4,
     "metadata": {
      "tags": []
     },
     "output_type": "execute_result"
    },
    {
     "data": {
      "image/png": "[encoded data removed]",
      "text/plain": [
       "<Figure size 432x288 with 1 Axes>"
      ]
     },
     "metadata": {
      "needs_background": "light",
      "tags": []
     },
     "output_type": "display_data"
    }
   ],
   "source": [
    "np.random.seed(0)#fixing the seed\n",
    "points = 500\n",
    "#X gos from -3 to 3, for the # of points\n",
    "X = np.linspace(-3,3, points)\n",
    "#Y is the Sin function + a random value between -.5 and .5\n",
    "y = np.sin(X) + np.random.uniform(-.5,.5,points)\n",
    "#printing it...\n",
    "plt.scatter(X,y)"
   ]
  },
  {
   "cell_type": "code",
   "execution_count": 7,
   "metadata": {
    "colab": {},
    "colab_type": "code",
    "id": "iSRxhIn6liIi"
   },
   "outputs": [],
   "source": [
    "model = Sequential()\n",
    "#One input parameter only... Actually is the only X value\n",
    "model.add(Dense(50, input_dim=1, activation='sigmoid'))\n",
    "model.add(Dense(30, activation='sigmoid'))\n",
    "model.add(Dense(1))"
   ]
  },
  {
   "cell_type": "code",
   "execution_count": 8,
   "metadata": {
    "colab": {
     "base_uri": "https://localhost:8080/",
     "height": 1000
    },
    "colab_type": "code",
    "id": "fODzBYvmngFj",
    "outputId": "425c3de8-6eca-4d8d-cabc-3f411b50fcd3"
   },
   "outputs": [
    {
     "name": "stdout",
     "output_type": "stream",
     "text": [
      "Epoch 1/50\n",
      "500/500 [==============================] - 0s 644us/step - loss: 0.4569\n",
      "Epoch 2/50\n",
      "500/500 [==============================] - 0s 37us/step - loss: 0.2402\n",
      "Epoch 3/50\n",
      "500/500 [==============================] - 0s 34us/step - loss: 0.2626\n",
      "Epoch 4/50\n",
      "500/500 [==============================] - 0s 38us/step - loss: 0.2257\n",
      "Epoch 5/50\n",
      "500/500 [==============================] - 0s 34us/step - loss: 0.2282\n",
      "Epoch 6/50\n",
      "500/500 [==============================] - 0s 34us/step - loss: 0.2251\n",
      "Epoch 7/50\n",
      "500/500 [==============================] - 0s 33us/step - loss: 0.2178\n",
      "Epoch 8/50\n",
      "500/500 [==============================] - 0s 33us/step - loss: 0.2203\n",
      "Epoch 9/50\n",
      "500/500 [==============================] - 0s 32us/step - loss: 0.2048\n",
      "Epoch 10/50\n",
      "500/500 [==============================] - 0s 33us/step - loss: 0.1912\n",
      "Epoch 11/50\n",
      "500/500 [==============================] - 0s 36us/step - loss: 0.1913\n",
      "Epoch 12/50\n",
      "500/500 [==============================] - 0s 36us/step - loss: 0.1780\n",
      "Epoch 13/50\n",
      "500/500 [==============================] - 0s 40us/step - loss: 0.1686\n",
      "Epoch 14/50\n",
      "500/500 [==============================] - 0s 41us/step - loss: 0.1580\n",
      "Epoch 15/50\n",
      "500/500 [==============================] - 0s 40us/step - loss: 0.1556\n",
      "Epoch 16/50\n",
      "500/500 [==============================] - 0s 34us/step - loss: 0.1449\n",
      "Epoch 17/50\n",
      "500/500 [==============================] - 0s 35us/step - loss: 0.1385\n",
      "Epoch 18/50\n",
      "500/500 [==============================] - 0s 46us/step - loss: 0.1310\n",
      "Epoch 19/50\n",
      "500/500 [==============================] - 0s 33us/step - loss: 0.1221\n",
      "Epoch 20/50\n",
      "500/500 [==============================] - 0s 39us/step - loss: 0.1270\n",
      "Epoch 21/50\n",
      "500/500 [==============================] - 0s 45us/step - loss: 0.1179\n",
      "Epoch 22/50\n",
      "500/500 [==============================] - 0s 34us/step - loss: 0.1169\n",
      "Epoch 23/50\n",
      "500/500 [==============================] - 0s 36us/step - loss: 0.1183\n",
      "Epoch 24/50\n",
      "500/500 [==============================] - 0s 41us/step - loss: 0.1176\n",
      "Epoch 25/50\n",
      "500/500 [==============================] - 0s 36us/step - loss: 0.1114\n",
      "Epoch 26/50\n",
      "500/500 [==============================] - 0s 39us/step - loss: 0.1080\n",
      "Epoch 27/50\n",
      "500/500 [==============================] - 0s 36us/step - loss: 0.1111\n",
      "Epoch 28/50\n",
      "500/500 [==============================] - 0s 32us/step - loss: 0.1244\n",
      "Epoch 29/50\n",
      "500/500 [==============================] - 0s 35us/step - loss: 0.1239\n",
      "Epoch 30/50\n",
      "500/500 [==============================] - 0s 34us/step - loss: 0.1129\n",
      "Epoch 31/50\n",
      "500/500 [==============================] - 0s 36us/step - loss: 0.1079\n",
      "Epoch 32/50\n",
      "500/500 [==============================] - 0s 33us/step - loss: 0.1143\n",
      "Epoch 33/50\n",
      "500/500 [==============================] - 0s 34us/step - loss: 0.1080\n",
      "Epoch 34/50\n",
      "500/500 [==============================] - 0s 33us/step - loss: 0.1112\n",
      "Epoch 35/50\n",
      "500/500 [==============================] - 0s 33us/step - loss: 0.1047\n",
      "Epoch 36/50\n",
      "500/500 [==============================] - 0s 38us/step - loss: 0.1088\n",
      "Epoch 37/50\n",
      "500/500 [==============================] - 0s 32us/step - loss: 0.1069\n",
      "Epoch 38/50\n",
      "500/500 [==============================] - 0s 38us/step - loss: 0.1057\n",
      "Epoch 39/50\n",
      "500/500 [==============================] - 0s 32us/step - loss: 0.1052\n",
      "Epoch 40/50\n",
      "500/500 [==============================] - 0s 36us/step - loss: 0.1048\n",
      "Epoch 41/50\n",
      "500/500 [==============================] - 0s 43us/step - loss: 0.1152\n",
      "Epoch 42/50\n",
      "500/500 [==============================] - 0s 33us/step - loss: 0.1032\n",
      "Epoch 43/50\n",
      "500/500 [==============================] - 0s 36us/step - loss: 0.1034\n",
      "Epoch 44/50\n",
      "500/500 [==============================] - 0s 37us/step - loss: 0.1060\n",
      "Epoch 45/50\n",
      "500/500 [==============================] - 0s 36us/step - loss: 0.1021\n",
      "Epoch 46/50\n",
      "500/500 [==============================] - 0s 36us/step - loss: 0.1019\n",
      "Epoch 47/50\n",
      "500/500 [==============================] - 0s 36us/step - loss: 0.1124\n",
      "Epoch 48/50\n",
      "500/500 [==============================] - 0s 34us/step - loss: 0.1088\n",
      "Epoch 49/50\n",
      "500/500 [==============================] - 0s 34us/step - loss: 0.1042\n",
      "Epoch 50/50\n",
      "500/500 [==============================] - 0s 36us/step - loss: 0.1079\n"
     ]
    },
    {
     "data": {
      "text/plain": [
       "<keras.callbacks.callbacks.History at 0x7fe3be286dd8>"
      ]
     },
     "execution_count": 8,
     "metadata": {
      "tags": []
     },
     "output_type": "execute_result"
    }
   ],
   "source": [
    "adam = Adam(lr=0.01)\n",
    "#mse = mean square error\n",
    "model.compile(loss='mse', optimizer=adam)\n",
    "model.fit(X, y, epochs=50)"
   ]
  },
  {
   "cell_type": "code",
   "execution_count": 11,
   "metadata": {
    "colab": {
     "base_uri": "https://localhost:8080/",
     "height": 264
    },
    "colab_type": "code",
    "id": "S0812EgcpRQi",
    "outputId": "c31103f5-d1c1-45f7-f36c-336ee5b8ae9d"
   },
   "outputs": [
    {
     "data": {
      "image/png": "[encoded data removed]",
      "text/plain": [
       "<Figure size 432x288 with 1 Axes>"
      ]
     },
     "metadata": {
      "needs_background": "light",
      "tags": []
     },
     "output_type": "display_data"
    }
   ],
   "source": [
    "predictions = model.predict(X)\n",
    "plt.scatter(X,y)\n",
    "plt.plot(X, predictions, 'ro')\n",
    "plt.show()\n",
    "\n"
   ]
  },
  {
   "cell_type": "code",
   "execution_count": null,
   "metadata": {
    "colab": {},
    "colab_type": "code",
    "id": "K1qh98B9pnjy"
   },
   "outputs": [],
   "source": []
  }
 ],
 "metadata": {
  "colab": {
   "authorship_tag": "ABX9TyOvxPRefv/JcNJu0z35voF0",
   "include_colab_link": true,
   "name": "PolynomialRegression.ipynb",
   "provenance": []
  },
  "kernelspec": {
   "display_name": "Python 3",
   "language": "python",
   "name": "python3"
  },
  "language_info": {
   "codemirror_mode": {
    "name": "ipython",
    "version": 3
   },
   "file_extension": ".py",
   "mimetype": "text/x-python",
   "name": "python",
   "nbconvert_exporter": "python",
   "pygments_lexer": "ipython3",
   "version": "3.7.6"
  }
 },
 "nbformat": 4,
 "nbformat_minor": 4
}
