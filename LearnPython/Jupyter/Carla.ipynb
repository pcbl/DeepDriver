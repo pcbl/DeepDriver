{
  "nbformat": 4,
  "nbformat_minor": 0,
  "metadata": {
    "colab": {
      "name": "Carla.ipynb",
      "provenance": [],
      "collapsed_sections": [],
      "authorship_tag": "ABX9TyM5OIqMx2Xv8eLNv/RiJUuq",
      "include_colab_link": true
    },
    "kernelspec": {
      "name": "python3",
      "display_name": "Python 3"
    }
  },
  "cells": [
    {
      "cell_type": "markdown",
      "metadata": {
        "id": "view-in-github",
        "colab_type": "text"
      },
      "source": [
        "<a href=\"https://colab.research.google.com/github/pcbl/DeepDriver/blob/master/LearnPython/Jupyter/Carla.ipynb\" target=\"_parent\"><img src=\"https://colab.research.google.com/assets/colab-badge.svg\" alt=\"Open In Colab\"/></a>"
      ]
    },
    {
      "cell_type": "code",
      "metadata": {
        "id": "DCkEgtPa_DET",
        "colab_type": "code",
        "colab": {
          "base_uri": "https://localhost:8080/",
          "height": 34
        },
        "outputId": "9d955608-8316-4970-a751-43e8b1e02933"
      },
      "source": [
        "#pip install carla\n",
        "#Doies not work as we need a newer version! 0.9.5 is too old!\n",
        "\n",
        "#Let´s mount from google drive then\n",
        "from google.colab import drive\n",
        "drive.mount('/content/gdrive')\n",
        "#ls '/content/gdrive/My Drive/carla'\n"
      ],
      "execution_count": 1,
      "outputs": [
        {
          "output_type": "stream",
          "text": [
            "Drive already mounted at /content/gdrive; to attempt to forcibly remount, call drive.mount(\"/content/gdrive\", force_remount=True).\n"
          ],
          "name": "stdout"
        }
      ]
    },
    {
      "cell_type": "code",
      "metadata": {
        "id": "bMuCOOwe_gwb",
        "colab_type": "code",
        "colab": {}
      },
      "source": [
        "import glob\n",
        "import os\n",
        "import sys\n",
        "import random\n",
        "import time\n",
        "import numpy as np\n",
        "import cv2\n",
        "sys.path.append('/content/gdrive/My Drive/carla/carla-0.9.9-py3.7-linux-x86_64.egg')\n",
        "import carla\n",
        "\n",
        "from google.colab.patches import cv2_imshow\n",
        "from IPython.display import clear_output\n",
        "import matplotlib.pyplot as plt"
      ],
      "execution_count": 3,
      "outputs": []
    },
    {
      "cell_type": "code",
      "metadata": {
        "id": "CEyppJ5B_mIS",
        "colab_type": "code",
        "colab": {}
      },
      "source": [
        "#IM_WIDTH = 640\n",
        "#IM_HEIGHT = 480\n",
        "IM_WIDTH = 320\n",
        "IM_HEIGHT = 240"
      ],
      "execution_count": 4,
      "outputs": []
    },
    {
      "cell_type": "code",
      "metadata": {
        "id": "ubi3aocw_Ksq",
        "colab_type": "code",
        "colab": {}
      },
      "source": [
        "def process_img(image):\n",
        "    i = np.array(image.raw_data)\n",
        "    i2 = i.reshape((IM_HEIGHT, IM_WIDTH, 4))\n",
        "    i3 = i2[:, :, :3]\n",
        "    #cv2_imshow(i3)\n",
        "    clear_output()\n",
        "    plt.imshow(i3)\n",
        "    plt.show()    \n",
        "    sleep(1)  \n",
        "    return i3/255.0"
      ],
      "execution_count": 12,
      "outputs": []
    },
    {
      "cell_type": "code",
      "metadata": {
        "id": "NPHSDDteBfop",
        "colab_type": "code",
        "colab": {
          "base_uri": "https://localhost:8080/",
          "height": 749
        },
        "outputId": "9bc021f7-8773-4ede-988e-72ee42b360a6"
      },
      "source": [
        "actor_list = []\n",
        "\n",
        "client = carla.Client('40.113.121.238', 2000)\n",
        "client.set_timeout(30.0)\n",
        "world = client.get_world()\n",
        "\n",
        "#Getting Tesla Blueprint\n",
        "blueprint_library = world.get_blueprint_library()\n",
        "bp = blueprint_library.filter('model3')[0]\n",
        "\n",
        "#Spawnig it!\n",
        "spawn_point = world.get_map().get_spawn_points()[5]\n",
        "vehicle = world.spawn_actor(bp, spawn_point)\n",
        "\n",
        "#Accelerate!\n",
        "vehicle.apply_control(carla.VehicleControl(throttle=1.0, steer=0.0))\n",
        "\n",
        "actor_list.append(vehicle)\n",
        "\n",
        "# get the blueprint for this sensor\n",
        "blueprint = blueprint_library.find('sensor.camera.rgb')\n",
        "# change the dimensions of the image\n",
        "blueprint.set_attribute('image_size_x', f'{IM_WIDTH}')\n",
        "blueprint.set_attribute('image_size_y', f'{IM_HEIGHT}')\n",
        "blueprint.set_attribute('fov', '110')\n",
        "blueprint.set_attribute('sensor_tick', '0')\n",
        "\n",
        "\n",
        "# Adjust sensor relative to vehicle\n",
        "spawn_point = carla.Transform(carla.Location(x=2.5, z=0.7))\n",
        "\n",
        "# spawn the sensor and attach to vehicle.\n",
        "sensor = world.spawn_actor(blueprint, spawn_point, attach_to=vehicle)\n",
        "\n",
        "# add sensor to list of actors\n",
        "actor_list.append(sensor)\n",
        "\n",
        "# do something with this sensor\n",
        "sensor.listen(lambda data: process_img(data))\n",
        "\n",
        "while True:\n",
        "  # As soon as the server is ready continue!\n",
        "  vehicle.apply_control(carla.VehicleControl(throttle=.2, steer=0.0))\n",
        "  if not world.wait_for_tick(1):\n",
        "    continue\n",
        "  # as soon as the server is ready continue!\n",
        "  world.wait_for_tick(1)"
      ],
      "execution_count": 20,
      "outputs": [
        {
          "output_type": "display_data",
          "data": {
            "image/png": "[encoded data removed]",
            "text/plain": [
              "<Figure size 432x288 with 1 Axes>"
            ]
          },
          "metadata": {
            "tags": [],
            "needs_background": "light"
          }
        },
        {
          "output_type": "error",
          "ename": "KeyboardInterrupt",
          "evalue": "ignored",
          "traceback": [
            "\u001b[0;31m---------------------------------------------------------------------------\u001b[0m",
            "\u001b[0;31mKeyboardInterrupt\u001b[0m                         Traceback (most recent call last)",
            "\u001b[0;32m<ipython-input-20-d439a56bc405>\u001b[0m in \u001b[0;36m<module>\u001b[0;34m()\u001b[0m\n\u001b[1;32m     45\u001b[0m     \u001b[0;32mcontinue\u001b[0m\u001b[0;34m\u001b[0m\u001b[0;34m\u001b[0m\u001b[0m\n\u001b[1;32m     46\u001b[0m   \u001b[0;31m# as soon as the server is ready continue!\u001b[0m\u001b[0;34m\u001b[0m\u001b[0;34m\u001b[0m\u001b[0;34m\u001b[0m\u001b[0m\n\u001b[0;32m---> 47\u001b[0;31m   \u001b[0mworld\u001b[0m\u001b[0;34m.\u001b[0m\u001b[0mwait_for_tick\u001b[0m\u001b[0;34m(\u001b[0m\u001b[0;36m1\u001b[0m\u001b[0;34m)\u001b[0m\u001b[0;34m\u001b[0m\u001b[0;34m\u001b[0m\u001b[0m\n\u001b[0m",
            "\u001b[0;31mKeyboardInterrupt\u001b[0m: "
          ]
        },
        {
          "output_type": "display_data",
          "data": {
            "image/png": "[encoded data removed]",
            "text/plain": [
              "<Figure size 432x288 with 1 Axes>"
            ]
          },
          "metadata": {
            "tags": [],
            "needs_background": "light"
          }
        }
      ]
    }
  ]
}